{
 "cells": [
  {
   "cell_type": "markdown",
   "metadata": {},
   "source": [
    "# Final Project Part 1"
   ]
  },
  {
   "cell_type": "markdown",
   "metadata": {},
   "source": [
    "# Description of the problem and the background"
   ]
  },
  {
   "cell_type": "markdown",
   "metadata": {},
   "source": [
    "# The problem and background\n",
    "A new comer to Toronto is trying to find a neighborhood to settle. It's the first time he or she ever visited Toronto, so the person has no idea where to live.\n",
    "\n",
    "This project will help these people to find a suitable neighorhood to live. The user needs to name top 2 priorities (Gym, Coffee shop, Airport, etc.) and the project will select a best suitable neighborhood."
   ]
  },
  {
   "cell_type": "markdown",
   "metadata": {},
   "source": [
    "# Description of the data and how to use it\n",
    "\n",
    "I have local Toronto geolocation data, and venues data from Foursquare. I've also done Kmeans clustering with the data. I will leverge these data and analysis to do this project.\n"
   ]
  },
  {
   "cell_type": "code",
   "execution_count": null,
   "metadata": {},
   "outputs": [],
   "source": []
  }
 ],
 "metadata": {
  "kernelspec": {
   "display_name": "Python 3",
   "language": "python",
   "name": "python3"
  },
  "language_info": {
   "codemirror_mode": {
    "name": "ipython",
    "version": 3
   },
   "file_extension": ".py",
   "mimetype": "text/x-python",
   "name": "python",
   "nbconvert_exporter": "python",
   "pygments_lexer": "ipython3",
   "version": "3.7.0"
  }
 },
 "nbformat": 4,
 "nbformat_minor": 2
}
